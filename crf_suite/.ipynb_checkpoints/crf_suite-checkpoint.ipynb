{
 "cells": [
  {
   "cell_type": "code",
   "execution_count": 70,
   "metadata": {},
   "outputs": [],
   "source": [
    "def read_corpus(lines):\n",
    "    \"\"\"\n",
    "    convert corpus into features and labels\n",
    "    \"\"\"\n",
    "    tmp_fl = list()\n",
    "    output = list()\n",
    "    corpus = list()\n",
    "    for line in lines:\n",
    "        if not (line.isspace() or (len(line) > 10 and line[0:10] == '-DOCSTART-')):\n",
    "            line = line.rstrip('\\n').split()\n",
    "            output.append((line[0],line[-3],line[-1]))\n",
    "            tmp_fl = line[0]\n",
    "        elif len(tmp_fl) > 0:\n",
    "            corpus.append(output)\n",
    "            tmp_fl = list()\n",
    "            output = list()\n",
    "    if len(tmp_fl) > 0:\n",
    "        corpus.append(output)\n",
    "\n",
    "    return corpus"
   ]
  },
  {
   "cell_type": "code",
   "execution_count": 71,
   "metadata": {},
   "outputs": [],
   "source": [
    "import codecs\n",
    "with codecs.open(\"data/conll2003/eng.train\", 'r', 'utf-8') as f:\n",
    "        lines = f.readlines()"
   ]
  },
  {
   "cell_type": "code",
   "execution_count": 72,
   "metadata": {},
   "outputs": [
    {
     "data": {
      "text/plain": [
       "[('EU', 'NNP', 'I-ORG'),\n",
       " ('rejects', 'VBZ', 'O'),\n",
       " ('German', 'JJ', 'I-MISC'),\n",
       " ('call', 'NN', 'O'),\n",
       " ('to', 'TO', 'O'),\n",
       " ('boycott', 'VB', 'O'),\n",
       " ('British', 'JJ', 'I-MISC'),\n",
       " ('lamb', 'NN', 'O'),\n",
       " ('.', '.', 'O')]"
      ]
     },
     "execution_count": 72,
     "metadata": {},
     "output_type": "execute_result"
    }
   ],
   "source": [
    "read_corpus(lines)[0]"
   ]
  },
  {
   "cell_type": "code",
   "execution_count": null,
   "metadata": {},
   "outputs": [],
   "source": []
  },
  {
   "cell_type": "code",
   "execution_count": null,
   "metadata": {},
   "outputs": [],
   "source": []
  }
 ],
 "metadata": {
  "kernelspec": {
   "display_name": "Python 3",
   "language": "python",
   "name": "python3"
  },
  "language_info": {
   "codemirror_mode": {
    "name": "ipython",
    "version": 3
   },
   "file_extension": ".py",
   "mimetype": "text/x-python",
   "name": "python",
   "nbconvert_exporter": "python",
   "pygments_lexer": "ipython3",
   "version": "3.6.5"
  }
 },
 "nbformat": 4,
 "nbformat_minor": 1
}
